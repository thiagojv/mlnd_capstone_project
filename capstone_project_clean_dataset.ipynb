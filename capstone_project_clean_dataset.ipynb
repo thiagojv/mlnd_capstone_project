{
 "cells": [
  {
   "cell_type": "markdown",
   "metadata": {},
   "source": [
    "# Machine Learning Engineer Nanodegree\n",
    "\n",
    "## Introduction\n",
    "\n",
    "Since taxi companies use vehicle's allocated time and trip distance to charge the passenger's trip, be able to predict the price of trip based on this information helps in the audit process, estimates of the company's profit or even charge the passenger before the trip, like Uber.\n",
    "\n",
    "With information of every trip about when and where the passenger were picked up and droped off and how many passengers triped will allow the company to estimate how many time vehicle will be allocated and, based on that information, how much passenger should pay."
   ]
  },
  {
   "cell_type": "markdown",
   "metadata": {},
   "source": [
    "## Importing dependencies"
   ]
  },
  {
   "cell_type": "code",
   "execution_count": 1,
   "metadata": {},
   "outputs": [],
   "source": [
    "%matplotlib inline\n",
    "from datetime import datetime\n",
    "from sklearn.neural_network import MLPRegressor\n",
    "from sklearn.model_selection import train_test_split\n",
    "from geopy import distance\n",
    "\n",
    "import csv\n",
    "import numpy as np\n",
    "import pandas as pd\n",
    "import xgboost as xgb"
   ]
  },
  {
   "cell_type": "markdown",
   "metadata": {},
   "source": [
    "### Defining constants"
   ]
  },
  {
   "cell_type": "code",
   "execution_count": 2,
   "metadata": {},
   "outputs": [],
   "source": [
    "original_dataset = False\n",
    "train_file = 'dataset/train.csv'\n",
    "test_file = 'dataset/test.csv'\n",
    "clean_train_file = 'dataset/clean_train.csv'\n",
    "clean_test_file = 'dataset/clean_test.csv'"
   ]
  },
  {
   "cell_type": "markdown",
   "metadata": {},
   "source": [
    "### Defining functions"
   ]
  },
  {
   "cell_type": "code",
   "execution_count": 3,
   "metadata": {},
   "outputs": [],
   "source": [
    "def rmsle(real, predicted):\n",
    "    sum = 0.0\n",
    "    real = np.array(y_test)\n",
    "    predicted = np.array(y_pred)\n",
    "\n",
    "    for x in range(len(predicted)):\n",
    "        if predicted[x] >= 0 and real[x] >= 0:\n",
    "            p = np.log(predicted[x] + 1)\n",
    "            r = np.log(real[x] + 1)\n",
    "            sum = sum + (p - r) ** 2\n",
    "\n",
    "    return (sum / len(predicted)) ** 0.5"
   ]
  },
  {
   "cell_type": "code",
   "execution_count": 4,
   "metadata": {},
   "outputs": [],
   "source": [
    "def calculate_distance(df):\n",
    "    pickup = np.array(df[['pickup_latitude', 'pickup_longitude']])\n",
    "    dropoff = np.array(df[['dropoff_latitude', 'dropoff_longitude']])\n",
    "    df['pickup'] = [(row[0], row[1]) for row in pickup]\n",
    "    df['dropoff'] = [(row[0], row[1]) for row in dropoff]\n",
    "    \n",
    "    return [distance.distance(row['pickup'], row['dropoff']).km for index, row in df.iterrows()]"
   ]
  },
  {
   "cell_type": "code",
   "execution_count": 5,
   "metadata": {},
   "outputs": [],
   "source": [
    "def plot_duration_by_pickup_hour(data_frame, title):\n",
    "    data_frame.groupby('pickup_hour').mean()['trip_duration'].plot(kind='bar', title=title);"
   ]
  },
  {
   "cell_type": "code",
   "execution_count": 6,
   "metadata": {},
   "outputs": [],
   "source": [
    "def plot_duration_by_pickup_range(data_frame, title):\n",
    "    group = pd.cut(data_frame['pickup_hour'], np.arange(0, 25, 6))\n",
    "    data_frame.groupby(group).mean()['trip_duration'].plot(kind='bar', title=title);"
   ]
  },
  {
   "cell_type": "code",
   "execution_count": 7,
   "metadata": {},
   "outputs": [],
   "source": [
    "def plot_duration_by_passenger_count(data_frame, title):\n",
    "    data_frame.groupby('passenger_count').mean()['trip_duration'].plot(kind='bar', title=title);"
   ]
  },
  {
   "cell_type": "code",
   "execution_count": 8,
   "metadata": {},
   "outputs": [],
   "source": [
    "def plot_duration_by_distance(data_frame, title):\n",
    "    group = pd.cut(data_frame['distance'], np.arange(0, 7, 1))\n",
    "    data_frame.groupby(group).mean()['trip_duration'].plot(kind='bar', title=title);"
   ]
  },
  {
   "cell_type": "code",
   "execution_count": 45,
   "metadata": {},
   "outputs": [],
   "source": [
    "def plot_trips_by_pickup_range(data_frame, title):\n",
    "    group = pd.cut(data_frame['pickup_hour'], np.arange(0, 25, 6))\n",
    "    data_frame.groupby(group).count()['trip_duration'].plot(kind='bar', title=title);"
   ]
  },
  {
   "cell_type": "markdown",
   "metadata": {},
   "source": [
    "## Read Data"
   ]
  },
  {
   "cell_type": "code",
   "execution_count": 9,
   "metadata": {},
   "outputs": [
    {
     "name": "stderr",
     "output_type": "stream",
     "text": [
      "/usr/local/lib/python2.7/dist-packages/numpy/lib/arraysetops.py:466: FutureWarning: elementwise comparison failed; returning scalar instead, but in the future will perform elementwise comparison\n",
      "  mask |= (ar1 == a)\n"
     ]
    }
   ],
   "source": [
    "if original_dataset:\n",
    "    df = pd.read_csv(train_file)\n",
    "    df_test = pd.read_csv(test_file)\n",
    "else:\n",
    "    df = pd.read_csv(clean_train_file, index_col=0)\n",
    "    df_test = pd.read_csv(clean_test_file, index_col=0)"
   ]
  },
  {
   "cell_type": "markdown",
   "metadata": {},
   "source": [
    "## Cleaning data"
   ]
  },
  {
   "cell_type": "markdown",
   "metadata": {},
   "source": [
    "### Adjusting pickup_datetime to datetime"
   ]
  },
  {
   "cell_type": "code",
   "execution_count": 10,
   "metadata": {},
   "outputs": [],
   "source": [
    "if original_dataset:\n",
    "    df['pickup_datetime'] = pd.to_datetime(df['pickup_datetime'])\n",
    "    df_test['pickup_datetime'] = pd.to_datetime(df_test['pickup_datetime'])    "
   ]
  },
  {
   "cell_type": "markdown",
   "metadata": {},
   "source": [
    "### Adjusting trip_duration to hours"
   ]
  },
  {
   "cell_type": "code",
   "execution_count": 11,
   "metadata": {},
   "outputs": [],
   "source": [
    "if original_dataset:\n",
    "    df['trip_duration'] = df['trip_duration'] / 3600"
   ]
  },
  {
   "cell_type": "markdown",
   "metadata": {},
   "source": [
    "### Create a new column with distance between pick up and drop off using geopy"
   ]
  },
  {
   "cell_type": "code",
   "execution_count": 12,
   "metadata": {},
   "outputs": [],
   "source": [
    "if original_dataset:\n",
    "    df['distance'] = calculate_distance(df)"
   ]
  },
  {
   "cell_type": "code",
   "execution_count": 13,
   "metadata": {},
   "outputs": [],
   "source": [
    "if original_dataset:\n",
    "    df_test['distance'] = calculate_distance(df_test)"
   ]
  },
  {
   "cell_type": "markdown",
   "metadata": {},
   "source": [
    "### Normalize pick up time to consider just the hour"
   ]
  },
  {
   "cell_type": "code",
   "execution_count": 14,
   "metadata": {},
   "outputs": [],
   "source": [
    "if original_dataset:\n",
    "    df['pickup_hour'] = df['pickup_datetime'].dt.hour\n",
    "    df_test['pickup_hour'] = df_test['pickup_datetime'].dt.hour"
   ]
  },
  {
   "cell_type": "markdown",
   "metadata": {},
   "source": [
    "### Adjust DataFrame to improve visualization"
   ]
  },
  {
   "cell_type": "code",
   "execution_count": 15,
   "metadata": {},
   "outputs": [],
   "source": [
    "if original_dataset:\n",
    "    # Removing unecessary columns\n",
    "    df.drop(columns=['id', 'vendor_id', 'pickup_datetime', 'dropoff_datetime', 'pickup_latitude', 'pickup_longitude', 'dropoff_latitude', 'dropoff_longitude', 'store_and_fwd_flag', 'pickup', 'dropoff'], inplace=True)\n",
    "    df_test.drop(columns=['id', 'vendor_id', 'pickup_datetime', 'pickup_latitude', 'pickup_longitude', 'dropoff_latitude', 'dropoff_longitude', 'store_and_fwd_flag', 'pickup', 'dropoff'], inplace=True)\n",
    "\n",
    "    # Reording Data Frame columns\n",
    "    df = df[['pickup_hour', 'passenger_count', 'distance', 'trip_duration']]\n",
    "    df_test = df[['pickup_hour', 'passenger_count', 'distance']]"
   ]
  },
  {
   "cell_type": "markdown",
   "metadata": {},
   "source": [
    "### Removing trip_duration outliers"
   ]
  },
  {
   "cell_type": "code",
   "execution_count": 16,
   "metadata": {},
   "outputs": [],
   "source": [
    "if original_dataset:\n",
    "    q1 = df.trip_duration.quantile(0.25)\n",
    "    q3 = df.trip_duration.quantile(0.75)\n",
    "    iqr = q3 - q1\n",
    "\n",
    "    df = df.query('(@q1 - 1.5 * @iqr) <= trip_duration <= (@q3 + 1.5 * @iqr)')"
   ]
  },
  {
   "cell_type": "markdown",
   "metadata": {},
   "source": [
    "### Removing distance outliers"
   ]
  },
  {
   "cell_type": "code",
   "execution_count": 17,
   "metadata": {},
   "outputs": [],
   "source": [
    "if original_dataset:\n",
    "    q1 = df.distance.quantile(0.25)\n",
    "    q3 = df.distance.quantile(0.75)\n",
    "    iqr = q3 - q1\n",
    "\n",
    "    df = df.query('(@q1 - 1.5 * @iqr) <= distance <= (@q3 + 1.5 * @iqr)')"
   ]
  },
  {
   "cell_type": "markdown",
   "metadata": {},
   "source": [
    "### Drop duplicated records"
   ]
  },
  {
   "cell_type": "code",
   "execution_count": 18,
   "metadata": {},
   "outputs": [],
   "source": [
    "if original_dataset:\n",
    "    df.drop_duplicates(inplace=True)"
   ]
  },
  {
   "cell_type": "markdown",
   "metadata": {},
   "source": [
    "## Exporting clean dataset"
   ]
  },
  {
   "cell_type": "code",
   "execution_count": 19,
   "metadata": {},
   "outputs": [],
   "source": [
    "if original_dataset:\n",
    "    df.to_csv(clean_train_file, index=False)\n",
    "    df_test.to_csv(clean_test_file, index=False)"
   ]
  },
  {
   "cell_type": "markdown",
   "metadata": {},
   "source": [
    "## Relate distance, hour and number of passenger with time duration using histograms"
   ]
  },
  {
   "cell_type": "code",
   "execution_count": 20,
   "metadata": {},
   "outputs": [
    {
     "data": {
      "image/png": "[encoded data removed]",
      "text/plain": [
       "<matplotlib.figure.Figure at 0x7ff2b2ee2d10>"
      ]
     },
     "metadata": {},
     "output_type": "display_data"
    }
   ],
   "source": [
    "plot_duration_by_pickup_hour(df, 'Train dataset')"
   ]
  },
  {
   "cell_type": "code",
   "execution_count": 21,
   "metadata": {},
   "outputs": [
    {
     "data": {
      "image/png": "[encoded data removed]",
      "text/plain": [
       "<matplotlib.figure.Figure at 0x7ff2e126eed0>"
      ]
     },
     "metadata": {},
     "output_type": "display_data"
    }
   ],
   "source": [
    "plot_duration_by_pickup_range(df, 'Train dataset')"
   ]
  },
  {
   "cell_type": "code",
   "execution_count": 22,
   "metadata": {},
   "outputs": [
    {
     "data": {
      "image/png": "[encoded data removed]",
      "text/plain": [
       "<matplotlib.figure.Figure at 0x7ff2a1cbd890>"
      ]
     },
     "metadata": {},
     "output_type": "display_data"
    }
   ],
   "source": [
    "plot_duration_by_passenger_count(df, 'Train dataset')"
   ]
  },
  {
   "cell_type": "code",
   "execution_count": 23,
   "metadata": {},
   "outputs": [
    {
     "data": {
      "image/png": "[encoded data removed]",
      "text/plain": [
       "<matplotlib.figure.Figure at 0x7ff2e12960d0>"
      ]
     },
     "metadata": {},
     "output_type": "display_data"
    }
   ],
   "source": [
    "plot_duration_by_distance(df, 'Train dataset')"
   ]
  },
  {
   "cell_type": "code",
   "execution_count": 46,
   "metadata": {},
   "outputs": [
    {
     "data": {
      "image/png": "[encoded data removed]",
      "text/plain": [
       "<matplotlib.figure.Figure at 0x7ff2c86e7510>"
      ]
     },
     "metadata": {},
     "output_type": "display_data"
    }
   ],
   "source": [
    "plot_trips_by_pickup_range(df, 'Train dataset')"
   ]
  },
  {
   "cell_type": "markdown",
   "metadata": {},
   "source": [
    "## Splitting Data"
   ]
  },
  {
   "cell_type": "code",
   "execution_count": 24,
   "metadata": {},
   "outputs": [],
   "source": [
    "# Removing trip duration from Data Frame\n",
    "trip_duration = df.trip_duration\n",
    "features = df.drop('trip_duration', axis = 1)\n",
    "\n",
    "# Splitting dataset among train and test datasets\n",
    "X_train, X_test, y_train, y_test = train_test_split(features, trip_duration, test_size=0.2, random_state=3)"
   ]
  },
  {
   "cell_type": "markdown",
   "metadata": {},
   "source": [
    "## Train and Test MLPRegressor to find the best configuration"
   ]
  },
  {
   "cell_type": "code",
   "execution_count": 25,
   "metadata": {},
   "outputs": [],
   "source": [
    "regressor = MLPRegressor(\n",
    "    activation = 'logistic',\n",
    "    random_state = 300\n",
    ")\n",
    "\n",
    "regressor = regressor.fit(X_train, y_train)"
   ]
  },
  {
   "cell_type": "code",
   "execution_count": 26,
   "metadata": {},
   "outputs": [],
   "source": [
    "y_pred = regressor.predict(X_test);"
   ]
  },
  {
   "cell_type": "markdown",
   "metadata": {},
   "source": [
    "## Take the evaluate metric to compare with benchmark "
   ]
  },
  {
   "cell_type": "code",
   "execution_count": 27,
   "metadata": {},
   "outputs": [
    {
     "name": "stdout",
     "output_type": "stream",
     "text": [
      "Evaluated metric: 0.0608\n"
     ]
    }
   ],
   "source": [
    "metric = rmsle(y_test, y_pred)\n",
    "\n",
    "print(\"Evaluated metric: %.4f\" % metric)"
   ]
  },
  {
   "cell_type": "markdown",
   "metadata": {},
   "source": [
    "## Benchmark"
   ]
  },
  {
   "cell_type": "code",
   "execution_count": 28,
   "metadata": {},
   "outputs": [
    {
     "name": "stdout",
     "output_type": "stream",
     "text": [
      "Evaluated metric: 0.0599\n"
     ]
    }
   ],
   "source": [
    "params = {\n",
    "    'booster': 'gbtree',\n",
    "    'objective': 'reg:linear',\n",
    "    'learning_rate': 0.1,\n",
    "    'max_depth': 14,\n",
    "    'subsample': 0.8,\n",
    "    'colsample_bytree': 0.7,\n",
    "    'colsample_bylevel': 0.7,\n",
    "    'silent': 1\n",
    "}\n",
    "\n",
    "## train model\n",
    "dtrain = xgb.DMatrix(X_train, np.log(y_train + 1))\n",
    "gbm = xgb.train(params, dtrain, num_boost_round = 100)\n",
    "\n",
    "## Predict\n",
    "y_pred = np.exp(gbm.predict(xgb.DMatrix(X_test))) - 1\n",
    "metric = rmsle(y_test, y_pred)\n",
    "\n",
    "print(\"Evaluated metric: %.4f\" % metric)"
   ]
  },
  {
   "cell_type": "markdown",
   "metadata": {},
   "source": [
    "## Validation"
   ]
  },
  {
   "cell_type": "code",
   "execution_count": 29,
   "metadata": {},
   "outputs": [],
   "source": [
    "y_pred_test = regressor.predict(df_test)"
   ]
  },
  {
   "cell_type": "code",
   "execution_count": 30,
   "metadata": {},
   "outputs": [],
   "source": [
    "y_pred_bench = np.exp(gbm.predict(xgb.DMatrix(df_test))) - 1"
   ]
  },
  {
   "cell_type": "code",
   "execution_count": 31,
   "metadata": {
    "scrolled": true
   },
   "outputs": [],
   "source": [
    "df_pred = df_test.copy()\n",
    "df_pred['trip_duration'] = y_pred_test[:]"
   ]
  },
  {
   "cell_type": "code",
   "execution_count": 32,
   "metadata": {},
   "outputs": [],
   "source": [
    "df_bench = df_test.copy()\n",
    "df_bench['trip_duration'] = y_pred_bench[:]"
   ]
  },
  {
   "cell_type": "code",
   "execution_count": 33,
   "metadata": {},
   "outputs": [
    {
     "data": {
      "image/png": "[encoded data removed]",
      "text/plain": [
       "<matplotlib.figure.Figure at 0x7ff2c88895d0>"
      ]
     },
     "metadata": {},
     "output_type": "display_data"
    }
   ],
   "source": [
    "plot_duration_by_pickup_hour(df_pred, 'Test dataset')"
   ]
  },
  {
   "cell_type": "code",
   "execution_count": 34,
   "metadata": {},
   "outputs": [
    {
     "data": {
      "image/png": "[encoded data removed]",
      "text/plain": [
       "<matplotlib.figure.Figure at 0x7ff2a1cf06d0>"
      ]
     },
     "metadata": {},
     "output_type": "display_data"
    }
   ],
   "source": [
    "plot_duration_by_pickup_range(df_pred, 'Test dataset')"
   ]
  },
  {
   "cell_type": "code",
   "execution_count": 35,
   "metadata": {},
   "outputs": [
    {
     "data": {
      "image/png": "[encoded data removed]",
      "text/plain": [
       "<matplotlib.figure.Figure at 0x7ff2c87f5a50>"
      ]
     },
     "metadata": {},
     "output_type": "display_data"
    }
   ],
   "source": [
    "plot_duration_by_passenger_count(df_pred, 'Test dataset')"
   ]
  },
  {
   "cell_type": "code",
   "execution_count": 36,
   "metadata": {
    "scrolled": true
   },
   "outputs": [
    {
     "data": {
      "image/png": "[encoded data removed]",
      "text/plain": [
       "<matplotlib.figure.Figure at 0x7ff2c88fe350>"
      ]
     },
     "metadata": {},
     "output_type": "display_data"
    }
   ],
   "source": [
    "plot_duration_by_distance(df_pred, 'Test dataset')"
   ]
  },
  {
   "cell_type": "code",
   "execution_count": 37,
   "metadata": {},
   "outputs": [
    {
     "data": {
      "image/png": "[encoded data removed]",
      "text/plain": [
       "<matplotlib.figure.Figure at 0x7ff2c8758ed0>"
      ]
     },
     "metadata": {},
     "output_type": "display_data"
    }
   ],
   "source": [
    "plot_duration_by_pickup_hour(df_bench, 'Benchmark')"
   ]
  },
  {
   "cell_type": "code",
   "execution_count": 38,
   "metadata": {},
   "outputs": [
    {
     "data": {
      "image/png": "[encoded data removed]",
      "text/plain": [
       "<matplotlib.figure.Figure at 0x7ff2c891ae10>"
      ]
     },
     "metadata": {},
     "output_type": "display_data"
    }
   ],
   "source": [
    "plot_duration_by_pickup_range(df_bench, 'Benchmark')"
   ]
  },
  {
   "cell_type": "code",
   "execution_count": 39,
   "metadata": {},
   "outputs": [
    {
     "data": {
      "image/png": "[encoded data removed]",
      "text/plain": [
       "<matplotlib.figure.Figure at 0x7ff2c88a9b10>"
      ]
     },
     "metadata": {},
     "output_type": "display_data"
    }
   ],
   "source": [
    "plot_duration_by_passenger_count(df_bench, 'Benchmark')"
   ]
  },
  {
   "cell_type": "code",
   "execution_count": 40,
   "metadata": {},
   "outputs": [
    {
     "data": {
      "image/png": "[encoded data removed]",
      "text/plain": [
       "<matplotlib.figure.Figure at 0x7ff2c8915790>"
      ]
     },
     "metadata": {},
     "output_type": "display_data"
    }
   ],
   "source": [
    "plot_duration_by_distance(df_bench, 'Benchmark')"
   ]
  },
  {
   "cell_type": "code",
   "execution_count": null,
   "metadata": {},
   "outputs": [],
   "source": []
  },
  {
   "cell_type": "code",
   "execution_count": 41,
   "metadata": {
    "scrolled": true
   },
   "outputs": [
    {
     "data": {
      "text/html": [
       "<div>\n",
       "<style scoped>\n",
       "    .dataframe tbody tr th:only-of-type {\n",
       "        vertical-align: middle;\n",
       "    }\n",
       "\n",
       "    .dataframe tbody tr th {\n",
       "        vertical-align: top;\n",
       "    }\n",
       "\n",
       "    .dataframe thead th {\n",
       "        text-align: right;\n",
       "    }\n",
       "</style>\n",
       "<table border=\"1\" class=\"dataframe\">\n",
       "  <thead>\n",
       "    <tr style=\"text-align: right;\">\n",
       "      <th></th>\n",
       "      <th>pickup_hour</th>\n",
       "      <th>passenger_count</th>\n",
       "      <th>distance</th>\n",
       "      <th>trip_duration</th>\n",
       "    </tr>\n",
       "  </thead>\n",
       "  <tbody>\n",
       "    <tr>\n",
       "      <th>count</th>\n",
       "      <td>1.275828e+06</td>\n",
       "      <td>1.275828e+06</td>\n",
       "      <td>1.275828e+06</td>\n",
       "      <td>1.275828e+06</td>\n",
       "    </tr>\n",
       "    <tr>\n",
       "      <th>mean</th>\n",
       "      <td>1.367182e+01</td>\n",
       "      <td>1.659938e+00</td>\n",
       "      <td>2.250646e+00</td>\n",
       "      <td>1.862797e-01</td>\n",
       "    </tr>\n",
       "    <tr>\n",
       "      <th>std</th>\n",
       "      <td>6.328576e+00</td>\n",
       "      <td>1.312318e+00</td>\n",
       "      <td>1.475960e+00</td>\n",
       "      <td>1.105742e-01</td>\n",
       "    </tr>\n",
       "    <tr>\n",
       "      <th>min</th>\n",
       "      <td>0.000000e+00</td>\n",
       "      <td>0.000000e+00</td>\n",
       "      <td>0.000000e+00</td>\n",
       "      <td>2.777778e-04</td>\n",
       "    </tr>\n",
       "    <tr>\n",
       "      <th>25%</th>\n",
       "      <td>9.000000e+00</td>\n",
       "      <td>1.000000e+00</td>\n",
       "      <td>1.147526e+00</td>\n",
       "      <td>1.019444e-01</td>\n",
       "    </tr>\n",
       "    <tr>\n",
       "      <th>50%</th>\n",
       "      <td>1.400000e+01</td>\n",
       "      <td>1.000000e+00</td>\n",
       "      <td>1.849074e+00</td>\n",
       "      <td>1.638889e-01</td>\n",
       "    </tr>\n",
       "    <tr>\n",
       "      <th>75%</th>\n",
       "      <td>1.900000e+01</td>\n",
       "      <td>2.000000e+00</td>\n",
       "      <td>2.994162e+00</td>\n",
       "      <td>2.486111e-01</td>\n",
       "    </tr>\n",
       "    <tr>\n",
       "      <th>max</th>\n",
       "      <td>2.300000e+01</td>\n",
       "      <td>9.000000e+00</td>\n",
       "      <td>6.915957e+00</td>\n",
       "      <td>5.811111e-01</td>\n",
       "    </tr>\n",
       "  </tbody>\n",
       "</table>\n",
       "</div>"
      ],
      "text/plain": [
       "        pickup_hour  passenger_count      distance  trip_duration\n",
       "count  1.275828e+06     1.275828e+06  1.275828e+06   1.275828e+06\n",
       "mean   1.367182e+01     1.659938e+00  2.250646e+00   1.862797e-01\n",
       "std    6.328576e+00     1.312318e+00  1.475960e+00   1.105742e-01\n",
       "min    0.000000e+00     0.000000e+00  0.000000e+00   2.777778e-04\n",
       "25%    9.000000e+00     1.000000e+00  1.147526e+00   1.019444e-01\n",
       "50%    1.400000e+01     1.000000e+00  1.849074e+00   1.638889e-01\n",
       "75%    1.900000e+01     2.000000e+00  2.994162e+00   2.486111e-01\n",
       "max    2.300000e+01     9.000000e+00  6.915957e+00   5.811111e-01"
      ]
     },
     "execution_count": 41,
     "metadata": {},
     "output_type": "execute_result"
    }
   ],
   "source": [
    "df.describe()"
   ]
  },
  {
   "cell_type": "code",
   "execution_count": 42,
   "metadata": {},
   "outputs": [
    {
     "data": {
      "text/html": [
       "<div>\n",
       "<style scoped>\n",
       "    .dataframe tbody tr th:only-of-type {\n",
       "        vertical-align: middle;\n",
       "    }\n",
       "\n",
       "    .dataframe tbody tr th {\n",
       "        vertical-align: top;\n",
       "    }\n",
       "\n",
       "    .dataframe thead th {\n",
       "        text-align: right;\n",
       "    }\n",
       "</style>\n",
       "<table border=\"1\" class=\"dataframe\">\n",
       "  <thead>\n",
       "    <tr style=\"text-align: right;\">\n",
       "      <th></th>\n",
       "      <th>pickup_hour</th>\n",
       "      <th>passenger_count</th>\n",
       "      <th>distance</th>\n",
       "      <th>trip_duration</th>\n",
       "    </tr>\n",
       "  </thead>\n",
       "  <tbody>\n",
       "    <tr>\n",
       "      <th>count</th>\n",
       "      <td>1.458644e+06</td>\n",
       "      <td>1.458644e+06</td>\n",
       "      <td>1.458644e+06</td>\n",
       "      <td>1.458644e+06</td>\n",
       "    </tr>\n",
       "    <tr>\n",
       "      <th>mean</th>\n",
       "      <td>1.360648e+01</td>\n",
       "      <td>1.664530e+00</td>\n",
       "      <td>3.442193e+00</td>\n",
       "      <td>2.082671e-01</td>\n",
       "    </tr>\n",
       "    <tr>\n",
       "      <th>std</th>\n",
       "      <td>6.399693e+00</td>\n",
       "      <td>1.314242e+00</td>\n",
       "      <td>4.300259e+00</td>\n",
       "      <td>9.587653e-02</td>\n",
       "    </tr>\n",
       "    <tr>\n",
       "      <th>min</th>\n",
       "      <td>0.000000e+00</td>\n",
       "      <td>0.000000e+00</td>\n",
       "      <td>0.000000e+00</td>\n",
       "      <td>1.089182e-02</td>\n",
       "    </tr>\n",
       "    <tr>\n",
       "      <th>25%</th>\n",
       "      <td>9.000000e+00</td>\n",
       "      <td>1.000000e+00</td>\n",
       "      <td>1.232265e+00</td>\n",
       "      <td>1.309605e-01</td>\n",
       "    </tr>\n",
       "    <tr>\n",
       "      <th>50%</th>\n",
       "      <td>1.400000e+01</td>\n",
       "      <td>1.000000e+00</td>\n",
       "      <td>2.094045e+00</td>\n",
       "      <td>1.884473e-01</td>\n",
       "    </tr>\n",
       "    <tr>\n",
       "      <th>75%</th>\n",
       "      <td>1.900000e+01</td>\n",
       "      <td>2.000000e+00</td>\n",
       "      <td>3.874716e+00</td>\n",
       "      <td>2.777798e-01</td>\n",
       "    </tr>\n",
       "    <tr>\n",
       "      <th>max</th>\n",
       "      <td>2.300000e+01</td>\n",
       "      <td>9.000000e+00</td>\n",
       "      <td>1.240510e+03</td>\n",
       "      <td>7.194437e-01</td>\n",
       "    </tr>\n",
       "  </tbody>\n",
       "</table>\n",
       "</div>"
      ],
      "text/plain": [
       "        pickup_hour  passenger_count      distance  trip_duration\n",
       "count  1.458644e+06     1.458644e+06  1.458644e+06   1.458644e+06\n",
       "mean   1.360648e+01     1.664530e+00  3.442193e+00   2.082671e-01\n",
       "std    6.399693e+00     1.314242e+00  4.300259e+00   9.587653e-02\n",
       "min    0.000000e+00     0.000000e+00  0.000000e+00   1.089182e-02\n",
       "25%    9.000000e+00     1.000000e+00  1.232265e+00   1.309605e-01\n",
       "50%    1.400000e+01     1.000000e+00  2.094045e+00   1.884473e-01\n",
       "75%    1.900000e+01     2.000000e+00  3.874716e+00   2.777798e-01\n",
       "max    2.300000e+01     9.000000e+00  1.240510e+03   7.194437e-01"
      ]
     },
     "execution_count": 42,
     "metadata": {},
     "output_type": "execute_result"
    }
   ],
   "source": [
    "df_pred.describe()"
   ]
  },
  {
   "cell_type": "code",
   "execution_count": 43,
   "metadata": {},
   "outputs": [
    {
     "data": {
      "text/html": [
       "<div>\n",
       "<style scoped>\n",
       "    .dataframe tbody tr th:only-of-type {\n",
       "        vertical-align: middle;\n",
       "    }\n",
       "\n",
       "    .dataframe tbody tr th {\n",
       "        vertical-align: top;\n",
       "    }\n",
       "\n",
       "    .dataframe thead th {\n",
       "        text-align: right;\n",
       "    }\n",
       "</style>\n",
       "<table border=\"1\" class=\"dataframe\">\n",
       "  <thead>\n",
       "    <tr style=\"text-align: right;\">\n",
       "      <th></th>\n",
       "      <th>pickup_hour</th>\n",
       "      <th>passenger_count</th>\n",
       "      <th>distance</th>\n",
       "      <th>trip_duration</th>\n",
       "    </tr>\n",
       "  </thead>\n",
       "  <tbody>\n",
       "    <tr>\n",
       "      <th>count</th>\n",
       "      <td>1.458644e+06</td>\n",
       "      <td>1.458644e+06</td>\n",
       "      <td>1.458644e+06</td>\n",
       "      <td>1.458644e+06</td>\n",
       "    </tr>\n",
       "    <tr>\n",
       "      <th>mean</th>\n",
       "      <td>1.360648e+01</td>\n",
       "      <td>1.664530e+00</td>\n",
       "      <td>3.442193e+00</td>\n",
       "      <td>2.101049e-01</td>\n",
       "    </tr>\n",
       "    <tr>\n",
       "      <th>std</th>\n",
       "      <td>6.399693e+00</td>\n",
       "      <td>1.314242e+00</td>\n",
       "      <td>4.300259e+00</td>\n",
       "      <td>1.046016e-01</td>\n",
       "    </tr>\n",
       "    <tr>\n",
       "      <th>min</th>\n",
       "      <td>0.000000e+00</td>\n",
       "      <td>0.000000e+00</td>\n",
       "      <td>0.000000e+00</td>\n",
       "      <td>-1.700723e-02</td>\n",
       "    </tr>\n",
       "    <tr>\n",
       "      <th>25%</th>\n",
       "      <td>9.000000e+00</td>\n",
       "      <td>1.000000e+00</td>\n",
       "      <td>1.232265e+00</td>\n",
       "      <td>1.264521e-01</td>\n",
       "    </tr>\n",
       "    <tr>\n",
       "      <th>50%</th>\n",
       "      <td>1.400000e+01</td>\n",
       "      <td>1.000000e+00</td>\n",
       "      <td>2.094045e+00</td>\n",
       "      <td>1.875079e-01</td>\n",
       "    </tr>\n",
       "    <tr>\n",
       "      <th>75%</th>\n",
       "      <td>1.900000e+01</td>\n",
       "      <td>2.000000e+00</td>\n",
       "      <td>3.874716e+00</td>\n",
       "      <td>2.802337e-01</td>\n",
       "    </tr>\n",
       "    <tr>\n",
       "      <th>max</th>\n",
       "      <td>2.300000e+01</td>\n",
       "      <td>9.000000e+00</td>\n",
       "      <td>1.240510e+03</td>\n",
       "      <td>5.070474e-01</td>\n",
       "    </tr>\n",
       "  </tbody>\n",
       "</table>\n",
       "</div>"
      ],
      "text/plain": [
       "        pickup_hour  passenger_count      distance  trip_duration\n",
       "count  1.458644e+06     1.458644e+06  1.458644e+06   1.458644e+06\n",
       "mean   1.360648e+01     1.664530e+00  3.442193e+00   2.101049e-01\n",
       "std    6.399693e+00     1.314242e+00  4.300259e+00   1.046016e-01\n",
       "min    0.000000e+00     0.000000e+00  0.000000e+00  -1.700723e-02\n",
       "25%    9.000000e+00     1.000000e+00  1.232265e+00   1.264521e-01\n",
       "50%    1.400000e+01     1.000000e+00  2.094045e+00   1.875079e-01\n",
       "75%    1.900000e+01     2.000000e+00  3.874716e+00   2.802337e-01\n",
       "max    2.300000e+01     9.000000e+00  1.240510e+03   5.070474e-01"
      ]
     },
     "execution_count": 43,
     "metadata": {},
     "output_type": "execute_result"
    }
   ],
   "source": [
    "df_bench.describe()"
   ]
  }
 ],
 "metadata": {
  "kernelspec": {
   "display_name": "Python 2",
   "language": "python",
   "name": "python2"
  },
  "language_info": {
   "codemirror_mode": {
    "name": "ipython",
    "version": 2
   },
   "file_extension": ".py",
   "mimetype": "text/x-python",
   "name": "python",
   "nbconvert_exporter": "python",
   "pygments_lexer": "ipython2",
   "version": "2.7.12"
  }
 },
 "nbformat": 4,
 "nbformat_minor": 2
}
